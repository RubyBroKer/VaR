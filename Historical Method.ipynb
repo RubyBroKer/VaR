{
 "cells": [
  {
   "cell_type": "code",
   "execution_count": 1,
   "metadata": {},
   "outputs": [
    {
     "name": "stderr",
     "output_type": "stream",
     "text": [
      "C:\\Users\\Divyanshu\\AppData\\Local\\Temp\\ipykernel_5580\\3111303863.py:2: DeprecationWarning: \n",
      "Pyarrow will become a required dependency of pandas in the next major release of pandas (pandas 3.0),\n",
      "(to allow more performant data types, such as the Arrow string type, and better interoperability with other libraries)\n",
      "but was not found to be installed on your system.\n",
      "If this would cause problems for you,\n",
      "please provide us feedback at https://github.com/pandas-dev/pandas/issues/54466\n",
      "        \n",
      "  import pandas as pd\n"
     ]
    }
   ],
   "source": [
    "import numpy as ns\n",
    "import pandas as pd\n",
    "import matplotlib.pyplot as plt\n",
    "import yfinance as yf\n",
    "from scipy.stats import norm\n",
    "import datetime as dt"
   ]
  },
  {
   "cell_type": "code",
   "execution_count": 2,
   "metadata": {},
   "outputs": [],
   "source": [
    "years=15\n",
    "endtime=dt.datetime.now()\n",
    "starttime=endtime-dt.timedelta(years*365)"
   ]
  },
  {
   "cell_type": "code",
   "execution_count": 3,
   "metadata": {},
   "outputs": [],
   "source": [
    "tickers=['SPY','BND','GLD','QQQ','VTI']"
   ]
  },
  {
   "cell_type": "code",
   "execution_count": 4,
   "metadata": {},
   "outputs": [
    {
     "name": "stderr",
     "output_type": "stream",
     "text": [
      "C:\\Users\\Divyanshu\\AppData\\Local\\Packages\\PythonSoftwareFoundation.Python.3.12_qbz5n2kfra8p0\\LocalCache\\local-packages\\Python312\\site-packages\\yfinance\\utils.py:775: FutureWarning: The 'unit' keyword in TimedeltaIndex construction is deprecated and will be removed in a future version. Use pd.to_timedelta instead.\n",
      "  df.index += _pd.TimedeltaIndex(dst_error_hours, 'h')\n",
      "[*********************100%%**********************]  1 of 1 completed\n",
      "C:\\Users\\Divyanshu\\AppData\\Local\\Packages\\PythonSoftwareFoundation.Python.3.12_qbz5n2kfra8p0\\LocalCache\\local-packages\\Python312\\site-packages\\yfinance\\utils.py:775: FutureWarning: The 'unit' keyword in TimedeltaIndex construction is deprecated and will be removed in a future version. Use pd.to_timedelta instead.\n",
      "  df.index += _pd.TimedeltaIndex(dst_error_hours, 'h')\n",
      "[*********************100%%**********************]  1 of 1 completed\n",
      "C:\\Users\\Divyanshu\\AppData\\Local\\Packages\\PythonSoftwareFoundation.Python.3.12_qbz5n2kfra8p0\\LocalCache\\local-packages\\Python312\\site-packages\\yfinance\\utils.py:775: FutureWarning: The 'unit' keyword in TimedeltaIndex construction is deprecated and will be removed in a future version. Use pd.to_timedelta instead.\n",
      "  df.index += _pd.TimedeltaIndex(dst_error_hours, 'h')\n",
      "[*********************100%%**********************]  1 of 1 completed\n",
      "C:\\Users\\Divyanshu\\AppData\\Local\\Packages\\PythonSoftwareFoundation.Python.3.12_qbz5n2kfra8p0\\LocalCache\\local-packages\\Python312\\site-packages\\yfinance\\utils.py:775: FutureWarning: The 'unit' keyword in TimedeltaIndex construction is deprecated and will be removed in a future version. Use pd.to_timedelta instead.\n",
      "  df.index += _pd.TimedeltaIndex(dst_error_hours, 'h')\n",
      "[*********************100%%**********************]  1 of 1 completed\n",
      "C:\\Users\\Divyanshu\\AppData\\Local\\Packages\\PythonSoftwareFoundation.Python.3.12_qbz5n2kfra8p0\\LocalCache\\local-packages\\Python312\\site-packages\\yfinance\\utils.py:775: FutureWarning: The 'unit' keyword in TimedeltaIndex construction is deprecated and will be removed in a future version. Use pd.to_timedelta instead.\n",
      "  df.index += _pd.TimedeltaIndex(dst_error_hours, 'h')\n",
      "[*********************100%%**********************]  1 of 1 completed\n"
     ]
    },
    {
     "data": {
      "text/html": [
       "<div>\n",
       "<style scoped>\n",
       "    .dataframe tbody tr th:only-of-type {\n",
       "        vertical-align: middle;\n",
       "    }\n",
       "\n",
       "    .dataframe tbody tr th {\n",
       "        vertical-align: top;\n",
       "    }\n",
       "\n",
       "    .dataframe thead th {\n",
       "        text-align: right;\n",
       "    }\n",
       "</style>\n",
       "<table border=\"1\" class=\"dataframe\">\n",
       "  <thead>\n",
       "    <tr style=\"text-align: right;\">\n",
       "      <th></th>\n",
       "      <th>SPY</th>\n",
       "      <th>BND</th>\n",
       "      <th>GLD</th>\n",
       "      <th>QQQ</th>\n",
       "      <th>VTI</th>\n",
       "    </tr>\n",
       "    <tr>\n",
       "      <th>Date</th>\n",
       "      <th></th>\n",
       "      <th></th>\n",
       "      <th></th>\n",
       "      <th></th>\n",
       "      <th></th>\n",
       "    </tr>\n",
       "  </thead>\n",
       "  <tbody>\n",
       "    <tr>\n",
       "      <th>2009-06-09</th>\n",
       "      <td>71.401642</td>\n",
       "      <td>49.633877</td>\n",
       "      <td>93.830002</td>\n",
       "      <td>32.298374</td>\n",
       "      <td>36.107815</td>\n",
       "    </tr>\n",
       "    <tr>\n",
       "      <th>2009-06-10</th>\n",
       "      <td>71.220551</td>\n",
       "      <td>49.510235</td>\n",
       "      <td>93.860001</td>\n",
       "      <td>32.184753</td>\n",
       "      <td>36.016777</td>\n",
       "    </tr>\n",
       "    <tr>\n",
       "      <th>2009-06-11</th>\n",
       "      <td>71.537437</td>\n",
       "      <td>49.750996</td>\n",
       "      <td>93.699997</td>\n",
       "      <td>32.184753</td>\n",
       "      <td>36.229214</td>\n",
       "    </tr>\n",
       "    <tr>\n",
       "      <th>2009-06-12</th>\n",
       "      <td>71.733597</td>\n",
       "      <td>49.881065</td>\n",
       "      <td>92.169998</td>\n",
       "      <td>32.036163</td>\n",
       "      <td>36.259571</td>\n",
       "    </tr>\n",
       "    <tr>\n",
       "      <th>2009-06-15</th>\n",
       "      <td>70.088905</td>\n",
       "      <td>49.978725</td>\n",
       "      <td>91.099998</td>\n",
       "      <td>31.380564</td>\n",
       "      <td>35.417370</td>\n",
       "    </tr>\n",
       "    <tr>\n",
       "      <th>...</th>\n",
       "      <td>...</td>\n",
       "      <td>...</td>\n",
       "      <td>...</td>\n",
       "      <td>...</td>\n",
       "      <td>...</td>\n",
       "    </tr>\n",
       "    <tr>\n",
       "      <th>2024-05-29</th>\n",
       "      <td>526.099976</td>\n",
       "      <td>70.852745</td>\n",
       "      <td>216.160004</td>\n",
       "      <td>456.440002</td>\n",
       "      <td>259.720001</td>\n",
       "    </tr>\n",
       "    <tr>\n",
       "      <th>2024-05-30</th>\n",
       "      <td>522.609985</td>\n",
       "      <td>71.161789</td>\n",
       "      <td>216.570007</td>\n",
       "      <td>451.549988</td>\n",
       "      <td>258.450012</td>\n",
       "    </tr>\n",
       "    <tr>\n",
       "      <th>2024-05-31</th>\n",
       "      <td>527.369995</td>\n",
       "      <td>71.420998</td>\n",
       "      <td>215.300003</td>\n",
       "      <td>450.709991</td>\n",
       "      <td>260.440002</td>\n",
       "    </tr>\n",
       "    <tr>\n",
       "      <th>2024-06-03</th>\n",
       "      <td>527.799988</td>\n",
       "      <td>71.820000</td>\n",
       "      <td>217.220001</td>\n",
       "      <td>453.130005</td>\n",
       "      <td>260.519989</td>\n",
       "    </tr>\n",
       "    <tr>\n",
       "      <th>2024-06-04</th>\n",
       "      <td>528.390015</td>\n",
       "      <td>72.089996</td>\n",
       "      <td>215.270004</td>\n",
       "      <td>454.369995</td>\n",
       "      <td>260.489990</td>\n",
       "    </tr>\n",
       "  </tbody>\n",
       "</table>\n",
       "<p>3773 rows × 5 columns</p>\n",
       "</div>"
      ],
      "text/plain": [
       "                   SPY        BND         GLD         QQQ         VTI\n",
       "Date                                                                 \n",
       "2009-06-09   71.401642  49.633877   93.830002   32.298374   36.107815\n",
       "2009-06-10   71.220551  49.510235   93.860001   32.184753   36.016777\n",
       "2009-06-11   71.537437  49.750996   93.699997   32.184753   36.229214\n",
       "2009-06-12   71.733597  49.881065   92.169998   32.036163   36.259571\n",
       "2009-06-15   70.088905  49.978725   91.099998   31.380564   35.417370\n",
       "...                ...        ...         ...         ...         ...\n",
       "2024-05-29  526.099976  70.852745  216.160004  456.440002  259.720001\n",
       "2024-05-30  522.609985  71.161789  216.570007  451.549988  258.450012\n",
       "2024-05-31  527.369995  71.420998  215.300003  450.709991  260.440002\n",
       "2024-06-03  527.799988  71.820000  217.220001  453.130005  260.519989\n",
       "2024-06-04  528.390015  72.089996  215.270004  454.369995  260.489990\n",
       "\n",
       "[3773 rows x 5 columns]"
      ]
     },
     "execution_count": 4,
     "metadata": {},
     "output_type": "execute_result"
    }
   ],
   "source": [
    "adj_close_price=pd.DataFrame()\n",
    "for ticker in tickers:\n",
    "    data=yf.download(ticker,start=starttime,end=endtime)\n",
    "    adj_close_price[ticker]=data['Adj Close']\n",
    "adj_close_price"
   ]
  },
  {
   "cell_type": "code",
   "execution_count": 5,
   "metadata": {},
   "outputs": [
    {
     "data": {
      "text/html": [
       "<div>\n",
       "<style scoped>\n",
       "    .dataframe tbody tr th:only-of-type {\n",
       "        vertical-align: middle;\n",
       "    }\n",
       "\n",
       "    .dataframe tbody tr th {\n",
       "        vertical-align: top;\n",
       "    }\n",
       "\n",
       "    .dataframe thead th {\n",
       "        text-align: right;\n",
       "    }\n",
       "</style>\n",
       "<table border=\"1\" class=\"dataframe\">\n",
       "  <thead>\n",
       "    <tr style=\"text-align: right;\">\n",
       "      <th></th>\n",
       "      <th>SPY</th>\n",
       "      <th>BND</th>\n",
       "      <th>GLD</th>\n",
       "      <th>QQQ</th>\n",
       "      <th>VTI</th>\n",
       "    </tr>\n",
       "    <tr>\n",
       "      <th>Date</th>\n",
       "      <th></th>\n",
       "      <th></th>\n",
       "      <th></th>\n",
       "      <th></th>\n",
       "      <th></th>\n",
       "    </tr>\n",
       "  </thead>\n",
       "  <tbody>\n",
       "    <tr>\n",
       "      <th>2009-06-10</th>\n",
       "      <td>-0.002539</td>\n",
       "      <td>-0.002494</td>\n",
       "      <td>0.000320</td>\n",
       "      <td>-0.003524</td>\n",
       "      <td>-0.002524</td>\n",
       "    </tr>\n",
       "    <tr>\n",
       "      <th>2009-06-11</th>\n",
       "      <td>0.004440</td>\n",
       "      <td>0.004851</td>\n",
       "      <td>-0.001706</td>\n",
       "      <td>0.000000</td>\n",
       "      <td>0.005881</td>\n",
       "    </tr>\n",
       "    <tr>\n",
       "      <th>2009-06-12</th>\n",
       "      <td>0.002738</td>\n",
       "      <td>0.002611</td>\n",
       "      <td>-0.016463</td>\n",
       "      <td>-0.004627</td>\n",
       "      <td>0.000838</td>\n",
       "    </tr>\n",
       "    <tr>\n",
       "      <th>2009-06-15</th>\n",
       "      <td>-0.023195</td>\n",
       "      <td>0.001956</td>\n",
       "      <td>-0.011677</td>\n",
       "      <td>-0.020677</td>\n",
       "      <td>-0.023501</td>\n",
       "    </tr>\n",
       "    <tr>\n",
       "      <th>2009-06-16</th>\n",
       "      <td>-0.013656</td>\n",
       "      <td>0.004675</td>\n",
       "      <td>0.009070</td>\n",
       "      <td>-0.009797</td>\n",
       "      <td>-0.014022</td>\n",
       "    </tr>\n",
       "    <tr>\n",
       "      <th>...</th>\n",
       "      <td>...</td>\n",
       "      <td>...</td>\n",
       "      <td>...</td>\n",
       "      <td>...</td>\n",
       "      <td>...</td>\n",
       "    </tr>\n",
       "    <tr>\n",
       "      <th>2024-05-29</th>\n",
       "      <td>-0.007027</td>\n",
       "      <td>-0.003652</td>\n",
       "      <td>-0.009347</td>\n",
       "      <td>-0.007073</td>\n",
       "      <td>-0.008244</td>\n",
       "    </tr>\n",
       "    <tr>\n",
       "      <th>2024-05-30</th>\n",
       "      <td>-0.006656</td>\n",
       "      <td>0.004352</td>\n",
       "      <td>0.001895</td>\n",
       "      <td>-0.010771</td>\n",
       "      <td>-0.004902</td>\n",
       "    </tr>\n",
       "    <tr>\n",
       "      <th>2024-05-31</th>\n",
       "      <td>0.009067</td>\n",
       "      <td>0.003636</td>\n",
       "      <td>-0.005881</td>\n",
       "      <td>-0.001862</td>\n",
       "      <td>0.007670</td>\n",
       "    </tr>\n",
       "    <tr>\n",
       "      <th>2024-06-03</th>\n",
       "      <td>0.000815</td>\n",
       "      <td>0.005571</td>\n",
       "      <td>0.008878</td>\n",
       "      <td>0.005355</td>\n",
       "      <td>0.000307</td>\n",
       "    </tr>\n",
       "    <tr>\n",
       "      <th>2024-06-04</th>\n",
       "      <td>0.001117</td>\n",
       "      <td>0.003752</td>\n",
       "      <td>-0.009018</td>\n",
       "      <td>0.002733</td>\n",
       "      <td>-0.000115</td>\n",
       "    </tr>\n",
       "  </tbody>\n",
       "</table>\n",
       "<p>3772 rows × 5 columns</p>\n",
       "</div>"
      ],
      "text/plain": [
       "                 SPY       BND       GLD       QQQ       VTI\n",
       "Date                                                        \n",
       "2009-06-10 -0.002539 -0.002494  0.000320 -0.003524 -0.002524\n",
       "2009-06-11  0.004440  0.004851 -0.001706  0.000000  0.005881\n",
       "2009-06-12  0.002738  0.002611 -0.016463 -0.004627  0.000838\n",
       "2009-06-15 -0.023195  0.001956 -0.011677 -0.020677 -0.023501\n",
       "2009-06-16 -0.013656  0.004675  0.009070 -0.009797 -0.014022\n",
       "...              ...       ...       ...       ...       ...\n",
       "2024-05-29 -0.007027 -0.003652 -0.009347 -0.007073 -0.008244\n",
       "2024-05-30 -0.006656  0.004352  0.001895 -0.010771 -0.004902\n",
       "2024-05-31  0.009067  0.003636 -0.005881 -0.001862  0.007670\n",
       "2024-06-03  0.000815  0.005571  0.008878  0.005355  0.000307\n",
       "2024-06-04  0.001117  0.003752 -0.009018  0.002733 -0.000115\n",
       "\n",
       "[3772 rows x 5 columns]"
      ]
     },
     "execution_count": 5,
     "metadata": {},
     "output_type": "execute_result"
    }
   ],
   "source": [
    "log_returns = ns.log(adj_close_price/adj_close_price.shift(1))\n",
    "log_returns = log_returns.dropna()\n",
    "log_returns"
   ]
  },
  {
   "cell_type": "code",
   "execution_count": 6,
   "metadata": {},
   "outputs": [
    {
     "data": {
      "text/plain": [
       "array([0.2, 0.2, 0.2, 0.2, 0.2])"
      ]
     },
     "execution_count": 6,
     "metadata": {},
     "output_type": "execute_result"
    }
   ],
   "source": [
    "portfolio_value = 1000000\n",
    "weights = ns.array([1/len(tickers)]*len(tickers))\n",
    "weights"
   ]
  },
  {
   "cell_type": "code",
   "execution_count": 7,
   "metadata": {},
   "outputs": [
    {
     "data": {
      "text/plain": [
       "Date\n",
       "2009-06-10   -0.002152\n",
       "2009-06-11    0.002693\n",
       "2009-06-12   -0.002981\n",
       "2009-06-15   -0.015419\n",
       "2009-06-16   -0.004746\n",
       "                ...   \n",
       "2024-05-29   -0.007069\n",
       "2024-05-30   -0.003216\n",
       "2024-05-31    0.002526\n",
       "2024-06-03    0.004185\n",
       "2024-06-04   -0.000306\n",
       "Length: 3772, dtype: float64"
      ]
     },
     "execution_count": 7,
     "metadata": {},
     "output_type": "execute_result"
    }
   ],
   "source": [
    "historical_returns = (log_returns*weights).sum(axis=1)\n",
    "historical_returns"
   ]
  },
  {
   "cell_type": "code",
   "execution_count": 8,
   "metadata": {},
   "outputs": [
    {
     "data": {
      "text/plain": [
       "Date\n",
       "2009-06-16   -0.022605\n",
       "2009-06-17   -0.018198\n",
       "2009-06-18   -0.021831\n",
       "2009-06-19   -0.014143\n",
       "2009-06-22   -0.019254\n",
       "                ...   \n",
       "2024-05-29   -0.013928\n",
       "2024-05-30   -0.011891\n",
       "2024-05-31   -0.000674\n",
       "2024-06-03   -0.001539\n",
       "2024-06-04   -0.003880\n",
       "Length: 3768, dtype: float64"
      ]
     },
     "execution_count": 8,
     "metadata": {},
     "output_type": "execute_result"
    }
   ],
   "source": [
    "days=5\n",
    "range_returns = historical_returns.rolling(window=days).sum()\n",
    "range_returns=range_returns.dropna()\n",
    "range_returns\n"
   ]
  },
  {
   "cell_type": "code",
   "execution_count": 10,
   "metadata": {},
   "outputs": [
    {
     "name": "stdout",
     "output_type": "stream",
     "text": [
      "43538.65450561855\n"
     ]
    }
   ],
   "source": [
    "confidence_interval = 0.99\n",
    "\n",
    "VaR = -ns.percentile(range_returns, 100 - (confidence_interval * 100))*portfolio_value\n",
    "print(VaR)"
   ]
  },
  {
   "cell_type": "code",
   "execution_count": 11,
   "metadata": {},
   "outputs": [
    {
     "data": {
      "image/png": "[encoded data removed]",
      "text/plain": [
       "<Figure size 640x480 with 1 Axes>"
      ]
     },
     "metadata": {},
     "output_type": "display_data"
    }
   ],
   "source": [
    "return_window = days\n",
    "range_returns = historical_returns.rolling(window=return_window).sum()\n",
    "range_returns = range_returns.dropna()\n",
    "\n",
    "range_returns_dollar = range_returns * portfolio_value\n",
    "\n",
    "plt.hist(range_returns_dollar.dropna(), bins=50, density=True)\n",
    "plt.xlabel(f'{return_window}-Day Portfolio Return (Dollar Value)')\n",
    "plt.ylabel('Frequency')\n",
    "plt.title(f'Distribution of Portfolio {return_window}-Day Returns (Dollar Value)')\n",
    "plt.axvline(-VaR, color='r', linestyle='dashed', linewidth=2, label=f'VaR at {confidence_interval:.0%} confidence level')\n",
    "plt.legend()\n",
    "plt.show()"
   ]
  }
 ],
 "metadata": {
  "kernelspec": {
   "display_name": "Python 3",
   "language": "python",
   "name": "python3"
  },
  "language_info": {
   "codemirror_mode": {
    "name": "ipython",
    "version": 3
   },
   "file_extension": ".py",
   "mimetype": "text/x-python",
   "name": "python",
   "nbconvert_exporter": "python",
   "pygments_lexer": "ipython3",
   "version": "3.12.3"
  }
 },
 "nbformat": 4,
 "nbformat_minor": 2
}
